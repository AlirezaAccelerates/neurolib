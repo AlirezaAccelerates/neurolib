{
 "cells": [
  {
   "cell_type": "code",
   "execution_count": 1,
   "metadata": {
    "collapsed": false,
    "pycharm": {
     "name": "#%%\n"
    }
   },
   "outputs": [],
   "source": [
    "import matplotlib.pyplot as plt\n",
    "import numpy as np\n",
    "import os, scipy, pickle\n",
    "\n",
    "if os.getcwd().split(os.sep)[-1] == \"examples\":\n",
    "    os.chdir('..')\n",
    "\n",
    "from neurolib.models.wc import WCModel\n",
    "from neurolib.utils.stimulus import ZeroInput\n",
    "from neurolib.optimal_control import cost_functions as cost_functions\n",
    "from neurolib.optimal_control import oc_wc\n",
    "\n",
    "# This will reload all imports as soon as the code changes\n",
    "%load_ext autoreload\n",
    "%autoreload 2"
   ]
  },
  {
   "cell_type": "code",
   "execution_count": 2,
   "metadata": {},
   "outputs": [],
   "source": [
    "points_bi = [\n",
    "    [2.9, 2.1], [2.9, 2.5], [2.9, 2.9], [2.9, 3.3],\n",
    "    [3.3, 2.5], [3.3, 2.9], [3.3, 3.3],\n",
    "    [3.7, 2.9], [3.7, 3.3],\n",
    "    [4.1, 3.3],\n",
    "]"
   ]
  },
  {
   "cell_type": "code",
   "execution_count": 3,
   "metadata": {},
   "outputs": [],
   "source": [
    "def gettarget(targetstate):\n",
    "    target = np.vstack( [zero_input, zero_input] )[np.newaxis,:,:]\n",
    "    target[0,0,:] = targetstate[0]\n",
    "    target[0,1,:] = targetstate[1]\n",
    "\n",
    "    return target\n",
    "\n",
    "def setinit(initstate):\n",
    "    wc.params[\"exc_init\"] = np.array([[ initstate[0] ]])\n",
    "    wc.params[\"inh_init\"] = np.array([[ initstate[1] ]])\n",
    "\n",
    "def decrease_step_compute():\n",
    "\n",
    "    for pow in [-4, -5]:\n",
    "\n",
    "        wc_controlled.step = 10**pow\n",
    "        wc_controlled.zero_step_encountered = False\n",
    "        wc_controlled.optimize(200)\n",
    "\n",
    "def increase_step_compute():\n",
    "\n",
    "    for pow in [-2, -1, 0, 2, 4]:\n",
    "\n",
    "        wc_controlled.step = 10**pow\n",
    "        wc_controlled.zero_step_encountered = False\n",
    "        wc_controlled.optimize(200*(3 + pow))\n",
    "\n",
    "    return\n",
    "\n",
    "def get_values(results_dict, ip, w):\n",
    "    results_dict[\"control\"][ip] = wc_controlled.control.copy()\n",
    "    results_dict[\"state\"][ip] = wc_controlled.get_xs().copy()\n",
    "    results_dict[\"cost\"][ip] = wc_controlled.cost_history[-1]\n",
    "\n",
    "    wc_controlled.w_2 = 0.\n",
    "    wc_controlled.simulate_forward()\n",
    "    results_dict[\"precision_cost\"][ip] = wc_controlled.compute_total_cost()\n",
    "    wc_controlled.w_2 = w\n",
    "\n",
    "    ce = np.zeros((results_dict[\"control\"][ip].shape))\n",
    "    ce[0,0,:] = results_dict[\"control\"][ip][0,0,:]\n",
    "    results_dict[\"L_cost\"][ip][0] = cost_functions.energy_cost(ce, 1., dt)\n",
    "    ci = np.zeros((results_dict[\"control\"][ip].shape))\n",
    "    ci[0,1,:] = results_dict[\"control\"][ip][0,1,:]\n",
    "    results_dict[\"L_cost\"][ip][1] = cost_functions.energy_cost(ci, 1., dt)\n",
    "\n",
    "    return\n",
    "\n",
    "def getmodel(t, w, results_dict, i):\n",
    "    wc_controlled = oc_wc.OcWc(wc, target=t, w_p=1, w_2=w, print_array=[], precision_cost_interval=(int0,None), control_matrix=control_mat, precision_matrix=prec_mat)\n",
    "\n",
    "    if type(results_dict[\"control\"][i]) != type(None):\n",
    "        wc_controlled.control = results_dict[\"control\"][i].copy()\n",
    "        wc_controlled.update_input()\n",
    "    wc_controlled.model.run()    \n",
    "\n",
    "    return wc_controlled\n"
   ]
  },
  {
   "cell_type": "code",
   "execution_count": 4,
   "metadata": {},
   "outputs": [],
   "source": [
    "n_points = len(points_bi)\n",
    "file_array = []\n",
    "for i in range(len(points_bi)):\n",
    "    file_array.append('w1_' + str(i+1) + '.png')\n",
    "\n",
    "results_w2_du = dict([\n",
    "    ('cost_type', 'w2'),\n",
    "    ('point', [None] * n_points),\n",
    "    ('d', [None] * n_points),\n",
    "    ('u', [None] * n_points),\n",
    "    (\"cost\", [None] * n_points),\n",
    "    (\"initial_cost\", [None] * n_points),\n",
    "    (\"precision_cost\", [None] * n_points),\n",
    "    (\"L_cost\", [np.zeros((2))] * n_points),\n",
    "    (\"control\", [None] * n_points),\n",
    "    (\"state\", [None] * n_points),\n",
    "    (\"filename\", file_array)\n",
    "    ])\n",
    "\n",
    "def save(results_dict):\n",
    "    filehandler = open(\"w2_du_dt.pickle\",\"wb\")\n",
    "    pickle.dump(results_dict,filehandler)\n",
    "    filehandler.close()"
   ]
  },
  {
   "cell_type": "code",
   "execution_count": 5,
   "metadata": {},
   "outputs": [],
   "source": [
    "wc = WCModel()\n",
    "wc.params.sigma_ou = 0.\n",
    "dt = 0.01\n",
    "wc.params.dt = dt\n",
    "duration = 500.\n",
    "wc.params[\"duration\"] = duration\n",
    "\n",
    "zero_input = ZeroInput().generate_input(duration=duration+dt, dt=dt)\n",
    "bi_control = zero_input.copy()\n",
    "bi_control[0,:500] = -5.\n",
    "bi_control[0,2500:3000] = +5.\n",
    "\n",
    "for i in range(len(points_bi)):\n",
    "\n",
    "    p = points_bi[i]\n",
    "    results_w2_du['point'][i] = p\n",
    "\n",
    "    wc.params[\"exc_ext\"] = bi_control + p[0]\n",
    "    wc.params[\"inh_ext\"] = zero_input + p[1]\n",
    "    wc.run()\n",
    "\n",
    "    results_w2_du['d'][i] = [wc.exc[0,2000], wc.inh[0,2000]]\n",
    "    results_w2_du['u'][i] = [wc.exc[0,-1], wc.inh[0,-1]]\n",
    "\n",
    "    #plt.plot(wc.exc[0,:])\n",
    "    #plt.show()"
   ]
  },
  {
   "cell_type": "code",
   "execution_count": 71,
   "metadata": {},
   "outputs": [
    {
     "name": "stdout",
     "output_type": "stream",
     "text": [
      "POINT  3\n",
      "1000 0.1 1\n",
      "Compute control for a deterministic system\n",
      "Cost in iteration 0: 1.2569506962694386\n",
      "Converged in iteration 1 with cost 1.2569506962694386 because of step counter\n",
      "Final cost : 1.2569506962694386\n",
      "[7434]\n"
     ]
    }
   ],
   "source": [
    "int0 = np.around( 180 / dt).astype(int)\n",
    "w1 = 1.\n",
    "\n",
    "control_mat = np.zeros( (wc.params.N, len(wc.state_vars)) )\n",
    "control_mat[0,0] = 1.\n",
    "control_mat[0,1] = 1.\n",
    "\n",
    "prec_mat = np.zeros( (wc.params.N, len(wc.output_vars)) )\n",
    "prec_mat[0,0] = 1.\n",
    "prec_mat[0,1] = 1.\n",
    "\n",
    "duration = 200.\n",
    "wc.params[\"duration\"] = duration\n",
    "zero_input = ZeroInput().generate_input(duration=duration+dt, dt=dt)\n",
    "\n",
    "for i in range(len(points_bi)):\n",
    "\n",
    "    if i != 2:\n",
    "        continue\n",
    "\n",
    "    print(\"POINT \", i+1)\n",
    "\n",
    "    p = points_bi[i]\n",
    "\n",
    "    wc.params[\"exc_ext\"] = zero_input + p[0]\n",
    "    wc.params[\"inh_ext\"] = zero_input + p[1]\n",
    "\n",
    "    target = gettarget( results_w2_du['u'][i] )\n",
    "    setinit( results_w2_du['d'][i] )\n",
    "\n",
    "    #if type(results_w1_du[\"control\"][i]) != type(None):\n",
    "    #    continue\n",
    "\n",
    "    #results_w1_du[\"control\"][i] = None\n",
    "        \n",
    "    wc_controlled = getmodel(target, w1, results_w2_du, i)\n",
    "    wc_controlled.step_factor = 0.5\n",
    "\n",
    "    if False:\n",
    "        wc_controlled.step = 1e-3\n",
    "        wc_controlled.optimize(1)\n",
    "\n",
    "        results_w2_du[\"initial_cost\"][i] = wc_controlled.cost_history[0]\n",
    "\n",
    "        wc_controlled.control[0,0,-3000:-2000] = 5.\n",
    "        wc_controlled.update_input()\n",
    "\n",
    "        wc_controlled.step = 1e-2\n",
    "        wc_controlled.optimize(100)\n",
    "\n",
    "        increase_step_compute()\n",
    "\n",
    "        ce = wc_controlled.cost_history[-1]\n",
    "        control_e = wc_controlled.control.copy()\n",
    "\n",
    "        wc_controlled.control[0,0,:] = 0.\n",
    "        wc_controlled.control[0,1,-3000:-2000] = -5.\n",
    "        wc_controlled.update_input()\n",
    "\n",
    "        wc_controlled.step = 1e-2\n",
    "        wc_controlled.optimize(100)\n",
    "\n",
    "        increase_step_compute()\n",
    "\n",
    "        ci = wc_controlled.cost_history[-1]\n",
    "\n",
    "        if ce <= ci:\n",
    "            wc_controlled.control = control_e.copy()\n",
    "            wc_controlled.update_input()\n",
    "\n",
    "        wc_controlled.optimize(0)    \n",
    "        get_values(results_w2_du, i, w1)    \n",
    "\n",
    "    for k in range(1):\n",
    "        c0 = np.zeros((wc_controlled.control.shape))\n",
    "        peakind = scipy.signal.find_peaks(wc_controlled.control[0,0,:], height=0.1)[0][0]\n",
    "        shiftind = np.around(min(1, (peakind - 7434))).astype(int)\n",
    "        print(1000, 0.1*(peakind - 7434), shiftind)\n",
    "        c0[0,:,:-shiftind] = wc_controlled.control[0,:,shiftind:]\n",
    "        wc_controlled.control = c0.copy()\n",
    "        wc_controlled.update_input()\n",
    "\n",
    "        wc_controlled.step = 10**(-(k))\n",
    "        wc_controlled.step_factor *= 0.8\n",
    "        wc_controlled.optimize(100)\n",
    "\n",
    "        #decrease_step_compute()\n",
    "\n",
    "        if results_w2_du[\"cost\"][i] * 1.001 > wc_controlled.cost_history[-1]:\n",
    "            get_values(results_w2_du, i, w1)\n",
    "\n",
    "        print(scipy.signal.find_peaks(wc_controlled.control[0,0,:], height=0.1)[0])\n",
    "        if np.amin(scipy.signal.find_peaks(wc_controlled.control[0,0,:], height=0.1)[0]) <= 7434:\n",
    "            break\n",
    "\n",
    "    save(results_w2_du)"
   ]
  },
  {
   "cell_type": "code",
   "execution_count": 72,
   "metadata": {},
   "outputs": [
    {
     "name": "stdout",
     "output_type": "stream",
     "text": [
      "POINT  3\n",
      "1.2569506962694386 1.2600398504643484\n"
     ]
    },
    {
     "data": {
      "image/png": "[encoded data removed]",
      "text/plain": [
       "<Figure size 640x480 with 1 Axes>"
      ]
     },
     "metadata": {},
     "output_type": "display_data"
    }
   ],
   "source": [
    "for i in range(len(points_bi)):\n",
    "    if i != 2:\n",
    "        continue\n",
    "\n",
    "    print(\"POINT \", i+1)\n",
    "    print(results_w2_du[\"cost\"][i], results_w2_du[\"initial_cost\"][i])\n",
    "    plt.plot(results_w2_du[\"state\"][i][0,0,:], color=\"red\", linestyle='-')\n",
    "    plt.plot(results_w2_du[\"state\"][i][0,1,:], color=\"blue\", linestyle='-')\n",
    "    plt.plot(results_w2_du[\"control\"][i][0,0,:], color=\"red\")\n",
    "    plt.plot(results_w2_du[\"control\"][i][0,1,:], color=\"blue\")\n",
    "    plt.show()"
   ]
  },
  {
   "cell_type": "code",
   "execution_count": 10,
   "metadata": {},
   "outputs": [
    {
     "data": {
      "text/plain": [
       "1.256704433139822"
      ]
     },
     "execution_count": 10,
     "metadata": {},
     "output_type": "execute_result"
    }
   ],
   "source": [
    "results_w2_du[\"cost\"][2]"
   ]
  },
  {
   "cell_type": "code",
   "execution_count": 11,
   "metadata": {},
   "outputs": [
    {
     "data": {
      "text/plain": [
       "1.2565541697810474"
      ]
     },
     "execution_count": 11,
     "metadata": {},
     "output_type": "execute_result"
    }
   ],
   "source": [
    "wc_controlled.cost_history[-1]"
   ]
  },
  {
   "cell_type": "code",
   "execution_count": 46,
   "metadata": {},
   "outputs": [
    {
     "name": "stdout",
     "output_type": "stream",
     "text": [
      "Compute control for a deterministic system\n",
      "Cost in iteration 0: 1.275909629960794\n"
     ]
    },
    {
     "ename": "KeyboardInterrupt",
     "evalue": "",
     "output_type": "error",
     "traceback": [
      "\u001b[0;31m---------------------------------------------------------------------------\u001b[0m",
      "\u001b[0;31mKeyboardInterrupt\u001b[0m                         Traceback (most recent call last)",
      "Cell \u001b[0;32mIn [46], line 13\u001b[0m\n\u001b[1;32m     11\u001b[0m wc_controlled\u001b[39m.\u001b[39mstep \u001b[39m=\u001b[39m \u001b[39m1e-9\u001b[39m\n\u001b[1;32m     12\u001b[0m wc_controlled\u001b[39m.\u001b[39mstep_factor \u001b[39m=\u001b[39m \u001b[39m0.9\u001b[39m\n\u001b[0;32m---> 13\u001b[0m wc_controlled\u001b[39m.\u001b[39;49moptimize(\u001b[39m100\u001b[39;49m)\n\u001b[1;32m     15\u001b[0m \u001b[39m#decrease_step_compute()\u001b[39;00m\n\u001b[1;32m     17\u001b[0m \u001b[39mif\u001b[39;00m results_w2_du[\u001b[39m\"\u001b[39m\u001b[39mcost\u001b[39m\u001b[39m\"\u001b[39m][i] \u001b[39m*\u001b[39m (\u001b[39m1.\u001b[39m \u001b[39m+\u001b[39m \u001b[39m1e-3\u001b[39m) \u001b[39m>\u001b[39m wc_controlled\u001b[39m.\u001b[39mcost_history[\u001b[39m-\u001b[39m\u001b[39m1\u001b[39m]:\n",
      "File \u001b[0;32m~/Promotion/neurolib/neurolib/optimal_control/oc.py:556\u001b[0m, in \u001b[0;36mOC.optimize\u001b[0;34m(self, n_max_iterations)\u001b[0m\n\u001b[1;32m    554\u001b[0m \u001b[39mif\u001b[39;00m \u001b[39mself\u001b[39m\u001b[39m.\u001b[39mM \u001b[39m==\u001b[39m \u001b[39m1\u001b[39m:\n\u001b[1;32m    555\u001b[0m     \u001b[39mprint\u001b[39m(\u001b[39m\"\u001b[39m\u001b[39mCompute control for a deterministic system\u001b[39m\u001b[39m\"\u001b[39m)\n\u001b[0;32m--> 556\u001b[0m     \u001b[39mreturn\u001b[39;00m \u001b[39mself\u001b[39;49m\u001b[39m.\u001b[39;49moptimize_deterministic(n_max_iterations)\n\u001b[1;32m    557\u001b[0m \u001b[39melse\u001b[39;00m:\n\u001b[1;32m    558\u001b[0m     \u001b[39mprint\u001b[39m(\u001b[39m\"\u001b[39m\u001b[39mCompute control for a noisy system\u001b[39m\u001b[39m\"\u001b[39m)\n",
      "File \u001b[0;32m~/Promotion/neurolib/neurolib/optimal_control/oc.py:577\u001b[0m, in \u001b[0;36mOC.optimize_deterministic\u001b[0;34m(self, n_max_iterations)\u001b[0m\n\u001b[1;32m    574\u001b[0m     \u001b[39mself\u001b[39m\u001b[39m.\u001b[39mcost_history\u001b[39m.\u001b[39mappend(cost)\n\u001b[1;32m    576\u001b[0m \u001b[39mfor\u001b[39;00m i \u001b[39min\u001b[39;00m \u001b[39mrange\u001b[39m(\u001b[39m1\u001b[39m, n_max_iterations \u001b[39m+\u001b[39m \u001b[39m1\u001b[39m):\n\u001b[0;32m--> 577\u001b[0m     \u001b[39mself\u001b[39m\u001b[39m.\u001b[39mgrad \u001b[39m=\u001b[39m \u001b[39mself\u001b[39;49m\u001b[39m.\u001b[39;49mcompute_gradient()\n\u001b[1;32m    579\u001b[0m     \u001b[39mif\u001b[39;00m np\u001b[39m.\u001b[39mamax(np\u001b[39m.\u001b[39mabs(\u001b[39mself\u001b[39m\u001b[39m.\u001b[39mgrad)) \u001b[39m<\u001b[39m \u001b[39m1e-20\u001b[39m:\n\u001b[1;32m    580\u001b[0m         \u001b[39mprint\u001b[39m(\u001b[39mf\u001b[39m\u001b[39m\"\u001b[39m\u001b[39mconverged with vanishing gradient in iteration %s with cost %s\u001b[39m\u001b[39m\"\u001b[39m \u001b[39m%\u001b[39m (i, cost))\n",
      "File \u001b[0;32m~/Promotion/neurolib/neurolib/optimal_control/oc_wc/oc_wc.py:447\u001b[0m, in \u001b[0;36mOcWc.compute_gradient\u001b[0;34m(self)\u001b[0m\n\u001b[1;32m    443\u001b[0m \u001b[39mdef\u001b[39;00m \u001b[39mcompute_gradient\u001b[39m(\u001b[39mself\u001b[39m):\n\u001b[1;32m    444\u001b[0m     \u001b[39m\"\"\"\u001b[39;00m\n\u001b[1;32m    445\u001b[0m \u001b[39m    Du @ fk + adjoint_k.T @ Du @ h\u001b[39;00m\n\u001b[1;32m    446\u001b[0m \u001b[39m    \"\"\"\u001b[39;00m\n\u001b[0;32m--> 447\u001b[0m     \u001b[39mself\u001b[39;49m\u001b[39m.\u001b[39;49msolve_adjoint()\n\u001b[1;32m    448\u001b[0m     du_f \u001b[39m=\u001b[39m np\u001b[39m.\u001b[39mzeros((\u001b[39mself\u001b[39m\u001b[39m.\u001b[39mcontrol\u001b[39m.\u001b[39mshape))\n\u001b[1;32m    449\u001b[0m     \u001b[39mif\u001b[39;00m \u001b[39mself\u001b[39m\u001b[39m.\u001b[39mw_2 \u001b[39m!=\u001b[39m \u001b[39m0.0\u001b[39m:\n",
      "File \u001b[0;32m~/Promotion/neurolib/neurolib/optimal_control/oc.py:411\u001b[0m, in \u001b[0;36mOC.solve_adjoint\u001b[0;34m(self)\u001b[0m\n\u001b[1;32m    409\u001b[0m \u001b[39m\"\"\"Backwards integration of the adjoint state.\"\"\"\u001b[39;00m\n\u001b[1;32m    410\u001b[0m hx \u001b[39m=\u001b[39m \u001b[39mself\u001b[39m\u001b[39m.\u001b[39mcompute_hx()\n\u001b[0;32m--> 411\u001b[0m hx_nw \u001b[39m=\u001b[39m \u001b[39mself\u001b[39;49m\u001b[39m.\u001b[39;49mcompute_hx_nw()\n\u001b[1;32m    413\u001b[0m \u001b[39m# ToDo: generalize, not only precision cost\u001b[39;00m\n\u001b[1;32m    414\u001b[0m fx \u001b[39m=\u001b[39m cost_functions\u001b[39m.\u001b[39mderivative_precision_cost(\n\u001b[1;32m    415\u001b[0m     \u001b[39mself\u001b[39m\u001b[39m.\u001b[39mtarget,\n\u001b[1;32m    416\u001b[0m     \u001b[39mself\u001b[39m\u001b[39m.\u001b[39mget_xs(),\n\u001b[0;32m   (...)\u001b[0m\n\u001b[1;32m    419\u001b[0m     \u001b[39mself\u001b[39m\u001b[39m.\u001b[39mprecision_cost_interval,\n\u001b[1;32m    420\u001b[0m )\n",
      "File \u001b[0;32m~/Promotion/neurolib/neurolib/optimal_control/oc_wc/oc_wc.py:426\u001b[0m, in \u001b[0;36mOcWc.compute_hx_nw\u001b[0;34m(self)\u001b[0m\n\u001b[1;32m    423\u001b[0m i \u001b[39m=\u001b[39m xs[:, \u001b[39m1\u001b[39m, :]\n\u001b[1;32m    424\u001b[0m ue \u001b[39m=\u001b[39m \u001b[39mself\u001b[39m\u001b[39m.\u001b[39mbackground[:, \u001b[39m0\u001b[39m, :] \u001b[39m+\u001b[39m \u001b[39mself\u001b[39m\u001b[39m.\u001b[39mcontrol[:, \u001b[39m0\u001b[39m, :]\n\u001b[0;32m--> 426\u001b[0m \u001b[39mreturn\u001b[39;00m compute_hx_nw(\n\u001b[1;32m    427\u001b[0m     \u001b[39mself\u001b[39;49m\u001b[39m.\u001b[39;49mmodel\u001b[39m.\u001b[39;49mparams\u001b[39m.\u001b[39;49mK_gl,\n\u001b[1;32m    428\u001b[0m     \u001b[39mself\u001b[39;49m\u001b[39m.\u001b[39;49mmodel\u001b[39m.\u001b[39;49mCmat,\n\u001b[1;32m    429\u001b[0m     \u001b[39mself\u001b[39;49m\u001b[39m.\u001b[39;49mDmat_ndt,\n\u001b[1;32m    430\u001b[0m     \u001b[39mself\u001b[39;49m\u001b[39m.\u001b[39;49mN,\n\u001b[1;32m    431\u001b[0m     \u001b[39mself\u001b[39;49m\u001b[39m.\u001b[39;49mdim_vars,\n\u001b[1;32m    432\u001b[0m     \u001b[39mself\u001b[39;49m\u001b[39m.\u001b[39;49mT,\n\u001b[1;32m    433\u001b[0m     e,\n\u001b[1;32m    434\u001b[0m     i,\n\u001b[1;32m    435\u001b[0m     ue,\n\u001b[1;32m    436\u001b[0m     \u001b[39mself\u001b[39;49m\u001b[39m.\u001b[39;49mmodel\u001b[39m.\u001b[39;49mparams\u001b[39m.\u001b[39;49mtau_exc,\n\u001b[1;32m    437\u001b[0m     \u001b[39mself\u001b[39;49m\u001b[39m.\u001b[39;49mmodel\u001b[39m.\u001b[39;49mparams\u001b[39m.\u001b[39;49ma_exc,\n\u001b[1;32m    438\u001b[0m     \u001b[39mself\u001b[39;49m\u001b[39m.\u001b[39;49mmodel\u001b[39m.\u001b[39;49mparams\u001b[39m.\u001b[39;49mmu_exc,\n\u001b[1;32m    439\u001b[0m     \u001b[39mself\u001b[39;49m\u001b[39m.\u001b[39;49mmodel\u001b[39m.\u001b[39;49mparams\u001b[39m.\u001b[39;49mc_excexc,\n\u001b[1;32m    440\u001b[0m     \u001b[39mself\u001b[39;49m\u001b[39m.\u001b[39;49mmodel\u001b[39m.\u001b[39;49mparams\u001b[39m.\u001b[39;49mc_inhexc,\n\u001b[1;32m    441\u001b[0m )\n",
      "\u001b[0;31mKeyboardInterrupt\u001b[0m: "
     ]
    }
   ],
   "source": [
    "    \n",
    "for i in range(len(points_bi)):\n",
    "    if i != 2:\n",
    "        continue\n",
    "\n",
    "    for k in range(1):\n",
    "        c0 = np.zeros((wc_controlled.control.shape))\n",
    "        c0[0,:,:] = wc_controlled.control[0,:,:] * (1. + 1e-9)\n",
    "        wc_controlled.control = c0.copy()\n",
    "        wc_controlled.update_input()\n",
    "\n",
    "        wc_controlled.step = 1e-9\n",
    "        wc_controlled.step_factor = 0.9\n",
    "        wc_controlled.optimize(100)\n",
    "\n",
    "        #decrease_step_compute()\n",
    "\n",
    "        if results_w2_du[\"cost\"][i] * (1. + 1e-3) > wc_controlled.cost_history[-1]:\n",
    "            print(\"---------------\")\n",
    "            get_values(results_w2_du, i, w1)\n",
    "\n",
    "        save(results_w2_du)"
   ]
  },
  {
   "cell_type": "code",
   "execution_count": null,
   "metadata": {},
   "outputs": [],
   "source": []
  }
 ],
 "metadata": {
  "kernelspec": {
   "display_name": "Python 3 (ipykernel)",
   "language": "python",
   "name": "python3"
  },
  "language_info": {
   "codemirror_mode": {
    "name": "ipython",
    "version": 3
   },
   "file_extension": ".py",
   "mimetype": "text/x-python",
   "name": "python",
   "nbconvert_exporter": "python",
   "pygments_lexer": "ipython3",
   "version": "3.9.7"
  },
  "vscode": {
   "interpreter": {
    "hash": "31f2aee4e71d21fbe5cf8b01ff0e069b9275f58929596ceb00d14d90e3e16cd6"
   }
  }
 },
 "nbformat": 4,
 "nbformat_minor": 2
}
