{
 "cells": [
  {
   "cell_type": "code",
   "execution_count": 2,
   "metadata": {},
   "outputs": [],
   "source": [
    "import matplotlib.pyplot as plt\n",
    "import numpy as np\n",
    "import os\n",
    "if os.getcwd().split(\"/\")[-1] == \"examples\":\n",
    "    os.chdir('..')\n",
    "import pickle\n",
    "\n",
    "from neurolib.models.wc import WCModel\n",
    "    \n",
    "# This will reload all imports as soon as the code changes\n",
    "%load_ext autoreload\n",
    "%autoreload 2 "
   ]
  },
  {
   "cell_type": "code",
   "execution_count": 3,
   "metadata": {},
   "outputs": [],
   "source": [
    "wc = WCModel()\n",
    "dur = 2000\n",
    "wc.params['duration'] = dur\n",
    "\n",
    "control0 = np.zeros(dur*10+1)\n",
    "control0[:1000] = 5.\n",
    "control0[10000:11000] = -5.\n",
    "\n",
    "ones = np.ones(dur*10+1)\n",
    "\n"
   ]
  },
  {
   "cell_type": "code",
   "execution_count": 4,
   "metadata": {
    "scrolled": true
   },
   "outputs": [
    {
     "name": "stdout",
     "output_type": "stream",
     "text": [
      "oscillation with different mean? 2.8 4.25\n"
     ]
    },
    {
     "data": {
      "image/png": "[encoded data removed]",
      "text/plain": [
       "<Figure size 432x288 with 1 Axes>"
      ]
     },
     "metadata": {
      "needs_background": "light"
     },
     "output_type": "display_data"
    },
    {
     "name": "stdout",
     "output_type": "stream",
     "text": [
      "12239\n",
      "12240\n"
     ]
    }
   ],
   "source": [
    "step = 0.05\n",
    "\n",
    "exc_inputs = np.around(np.arange(0, 6., step), 3)\n",
    "inh_inputs = np.around(np.arange(0, 5.1, step), 3)\n",
    "\n",
    "limit_std_osc = 1e-2\n",
    "limit_mean_osc = 1e-1\n",
    "limit_down = 0.15\n",
    "\n",
    "up = []\n",
    "down = []\n",
    "osc = []\n",
    "bi = []\n",
    "\n",
    "for i in inh_inputs:\n",
    "    for e in exc_inputs:\n",
    "    \n",
    "        wc.params['exc_ext'] = e * ones + control0\n",
    "        wc.params['inh_ext'] = i * ones\n",
    "        wc.run()\n",
    "\n",
    "        mean_std_0 = [np.mean(wc.exc[0,9000:9999]), np.std(wc.exc[0,9000:9999])]\n",
    "        mean_std_1 = [np.mean(wc.exc[0,-1000:]), np.std(wc.exc[0,-1000:])]\n",
    "\n",
    "        if mean_std_0[1] < limit_std_osc:    # first state steady\n",
    "            if mean_std_1[1] < limit_std_osc:    # second state steady\n",
    "                if np.abs(mean_std_0[0] - mean_std_1[0]) < limit_std_osc:   # same steady state\n",
    "                    if mean_std_0[0] < limit_down:\n",
    "                        #print(\"down state\")\n",
    "                        down.append([e, i])\n",
    "                    elif mean_std_0[0] >= limit_down:\n",
    "                        #print(\"up state\")\n",
    "                        up.append([e, i])\n",
    "                else:   # bistable\n",
    "                    #print(\"bistable state\")\n",
    "                    bi.append([e, i])\n",
    "            else:\n",
    "                print(\"first steady, second ?\", e,i)\n",
    "                plt.plot(wc.t, wc.exc[0,:])\n",
    "                plt.show()\n",
    "        else:       # first state osc\n",
    "            if np.abs(mean_std_0[0] - mean_std_1[0]) < limit_mean_osc:   # same oscillation\n",
    "                #print(\"oscillatory state\")\n",
    "                osc.append([e,i])\n",
    "\n",
    "            else:\n",
    "                print(\"oscillation with different mean?\", e,i)\n",
    "                plt.plot(wc.t, wc.exc[0,:])\n",
    "                plt.show()\n",
    "\n",
    "print(len(osc)+len(up)+len(down)+len(bi))\n",
    "print(len(exc_inputs)*len(inh_inputs))\n"
   ]
  },
  {
   "cell_type": "code",
   "execution_count": 5,
   "metadata": {},
   "outputs": [
    {
     "data": {
      "image/png": "[encoded data removed]",
      "text/plain": [
       "<Figure size 432x288 with 1 Axes>"
      ]
     },
     "metadata": {
      "needs_background": "light"
     },
     "output_type": "display_data"
    }
   ],
   "source": [
    "for point in up:\n",
    "    plt.plot(point[0], point[1], color = 'red', marker='o', markersize=1)\n",
    "\n",
    "for point in down:\n",
    "    plt.plot(point[0], point[1], color = 'grey', marker='o', markersize=1)\n",
    "\n",
    "for point in bi:\n",
    "    plt.plot(point[0], point[1], color = 'blue', marker='o', markersize=1)\n",
    "\n",
    "for point in osc:\n",
    "    plt.plot(point[0], point[1], color = 'green', marker='o', markersize=1)\n",
    "\n",
    "plt.show()"
   ]
  },
  {
   "cell_type": "code",
   "execution_count": 6,
   "metadata": {},
   "outputs": [],
   "source": [
    "boundary_LC_e = []\n",
    "boundary_LC_i = []\n",
    "\n",
    "for point in down:\n",
    "    if point[1] > 2:\n",
    "        continue\n",
    "    if  [np.around(point[0] + step,2), np.around(point[1],3)]  not in down:\n",
    "        boundary_LC_e.append( point[0] + step/2.)\n",
    "        boundary_LC_i.append(point[1])\n",
    "for point in osc[::-1]:\n",
    "   if [np.around(point[0] + step,2), np.around(point[1],3)] not in osc:\n",
    "    boundary_LC_e.append( point[0] + step/2.)\n",
    "    boundary_LC_i.append(point[1])\n",
    "\n",
    "boundary_bi_e = []\n",
    "boundary_bi_i = []\n",
    "for point in down[::-1]:\n",
    "    if point[1] < 2:\n",
    "        continue\n",
    "    if [np.around(point[0] + step,2), np.around(point[1],3)] not in down:\n",
    "        boundary_bi_e.append( point[0] + step/2.)\n",
    "        boundary_bi_i.append(point[1])\n",
    "for point in bi:\n",
    "   if [np.around(point[0] + step,2), np.around(point[1],3)] not in bi:\n",
    "    boundary_bi_e.append( point[0] + step/2.)\n",
    "    boundary_bi_i.append(point[1])\n",
    "\n",
    "boundary_du_e = []\n",
    "boundary_du_i = []\n",
    "for point in down:\n",
    "    if point[1] < 1 or point[1] > 2:\n",
    "        continue\n",
    "    if [np.around(point[0] + step,2), np.around(point[1],3)] not in down:\n",
    "        if [np.around(point[0] + step,2), np.around(point[1],3)] in up:\n",
    "            boundary_du_e.append( point[0] + step/2.)\n",
    "            boundary_du_i.append(point[1])"
   ]
  },
  {
   "cell_type": "code",
   "execution_count": 7,
   "metadata": {},
   "outputs": [
    {
     "data": {
      "image/png": "[encoded data removed]",
      "text/plain": [
       "<Figure size 432x288 with 1 Axes>"
      ]
     },
     "metadata": {
      "needs_background": "light"
     },
     "output_type": "display_data"
    }
   ],
   "source": [
    "plt.plot(boundary_LC_e, boundary_LC_i, color='black')\n",
    "plt.plot(boundary_bi_e, boundary_bi_i, color='black')\n",
    "plt.xlabel('Input to E population')\n",
    "plt.ylabel('Input to I population')\n",
    "plt.xlim(0,6)\n",
    "plt.ylim(0,5)\n",
    "\n",
    "plt.show()"
   ]
  },
  {
   "cell_type": "code",
   "execution_count": 8,
   "metadata": {},
   "outputs": [],
   "source": [
    "with open('boundary_osc.pickle','wb') as f:\n",
    "    pickle.dump([boundary_LC_e, boundary_LC_i], f)\n",
    "    \n",
    "with open('boundary_bi.pickle','wb') as f:\n",
    "    pickle.dump([boundary_bi_e, boundary_bi_i], f)"
   ]
  },
  {
   "cell_type": "code",
   "execution_count": null,
   "metadata": {},
   "outputs": [],
   "source": []
  }
 ],
 "metadata": {
  "kernelspec": {
   "display_name": "Python 3.9.7 64-bit",
   "language": "python",
   "name": "python3"
  },
  "language_info": {
   "codemirror_mode": {
    "name": "ipython",
    "version": 3
   },
   "file_extension": ".py",
   "mimetype": "text/x-python",
   "name": "python",
   "nbconvert_exporter": "python",
   "pygments_lexer": "ipython3",
   "version": "3.9.7"
  },
  "vscode": {
   "interpreter": {
    "hash": "31f2aee4e71d21fbe5cf8b01ff0e069b9275f58929596ceb00d14d90e3e16cd6"
   }
  }
 },
 "nbformat": 4,
 "nbformat_minor": 4
}
