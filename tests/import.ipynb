{
 "cells": [
  {
   "cell_type": "code",
   "execution_count": 6,
   "id": "ba559a86",
   "metadata": {},
   "outputs": [],
   "source": [
    "import os\n",
    "if os.getcwd().split(\"/\")[-1] == \"tests\":\n",
    "    os.chdir('..')\n",
    "\n",
    "import neurolib.utils.atlases as atl\n",
    "import neurolib.utils.collections as collections\n",
    "import neurolib.utils.devutils as devutils\n",
    "import neurolib.utils.functions as functions\n",
    "import neurolib.utils.loadData as loaddata\n",
    "import neurolib.utils.parameterSpace as parameterSpace\n",
    "import neurolib.utils.paths as paths\n",
    "import neurolib.utils.pypetUtils as pypetUtils\n",
    "import neurolib.utils.signal as signal\n",
    "\n",
    "import neurolib.utils.saver as saver\n",
    "import neurolib.utils.model_utils as model_utils\n",
    "import neurolib.utils.stimulus as stimulus"
   ]
  },
  {
   "cell_type": "code",
   "execution_count": null,
   "id": "16479467",
   "metadata": {},
   "outputs": [],
   "source": []
  }
 ],
 "metadata": {
  "kernelspec": {
   "display_name": "Python 3 (ipykernel)",
   "language": "python",
   "name": "python3"
  },
  "language_info": {
   "codemirror_mode": {
    "name": "ipython",
    "version": 3
   },
   "file_extension": ".py",
   "mimetype": "text/x-python",
   "name": "python",
   "nbconvert_exporter": "python",
   "pygments_lexer": "ipython3",
   "version": "3.9.7"
  }
 },
 "nbformat": 4,
 "nbformat_minor": 5
}
