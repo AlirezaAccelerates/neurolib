{
 "cells": [
  {
   "cell_type": "code",
   "execution_count": 1,
   "metadata": {
    "collapsed": false,
    "pycharm": {
     "name": "#%%\n"
    }
   },
   "outputs": [],
   "source": [
    "import matplotlib.pyplot as plt\n",
    "import numpy as np\n",
    "import os, scipy, pickle\n",
    "\n",
    "if os.getcwd().split(os.sep)[-1] == \"examples\":\n",
    "    os.chdir('..')\n",
    "\n",
    "from neurolib.models.wc import WCModel\n",
    "from neurolib.utils.stimulus import ZeroInput\n",
    "from neurolib.optimal_control import cost_functions as cost_functions\n",
    "from neurolib.optimal_control import oc_wc\n",
    "\n",
    "# This will reload all imports as soon as the code changes\n",
    "%load_ext autoreload\n",
    "%autoreload 2"
   ]
  },
  {
   "cell_type": "code",
   "execution_count": 4,
   "metadata": {},
   "outputs": [],
   "source": [
    "points_bi = [[4.2, 3.5], [5.4, 3.5] ]"
   ]
  },
  {
   "cell_type": "code",
   "execution_count": 5,
   "metadata": {},
   "outputs": [],
   "source": [
    "def gettarget(targetstate):\n",
    "    target = np.vstack( [zero_input, zero_input] )[np.newaxis,:,:]\n",
    "    target[0,0,:] = targetstate[0]\n",
    "    target[0,1,:] = targetstate[1]\n",
    "\n",
    "    return target\n",
    "\n",
    "def setinit(initstate):\n",
    "    wc.params[\"exc_init\"] = np.array([[ initstate[0] ]])\n",
    "    wc.params[\"inh_init\"] = np.array([[ initstate[1] ]])\n",
    "\n",
    "def decrease_step_compute():\n",
    "\n",
    "    for pow in [-4, -5]:\n",
    "\n",
    "        wc_controlled.step = 10**pow\n",
    "        wc_controlled.zero_step_encountered = False\n",
    "        wc_controlled.optimize(200)\n",
    "\n",
    "def increase_step_compute():\n",
    "\n",
    "    for pow in [-2, -1, 0, 2, 4]:\n",
    "\n",
    "        wc_controlled.step = 10**pow\n",
    "        wc_controlled.zero_step_encountered = False\n",
    "        wc_controlled.optimize(200*(3 + pow))\n",
    "\n",
    "    return\n",
    "\n",
    "def get_values(results_dict, ip, w):\n",
    "    results_dict[\"control\"][ip] = wc_controlled.control.copy()\n",
    "    results_dict[\"state\"][ip] = wc_controlled.get_xs().copy()\n",
    "    results_dict[\"cost\"][ip] = wc_controlled.cost_history[-1]\n",
    "\n",
    "    wc_controlled.w_1D = 0.\n",
    "    wc_controlled.simulate_forward()\n",
    "    results_dict[\"precision_cost\"][ip] = wc_controlled.compute_total_cost()\n",
    "    wc_controlled.w_1D = w\n",
    "\n",
    "    ce = np.zeros((results_dict[\"control\"][ip].shape))\n",
    "    ce[0,0,:] = results_dict[\"control\"][ip][0,0,:]\n",
    "    results_dict[\"L_cost\"][ip][0] = cost_functions.energy_cost(ce, 1., dt)\n",
    "    ci = np.zeros((results_dict[\"control\"][ip].shape))\n",
    "    ci[0,1,:] = results_dict[\"control\"][ip][0,1,:]\n",
    "    results_dict[\"L_cost\"][ip][1] = cost_functions.energy_cost(ci, 1., dt)\n",
    "\n",
    "    return\n",
    "\n",
    "def getmodel(t, w, results_dict, i):\n",
    "    wc_controlled = oc_wc.OcWc(wc, target=t, w_p=1, w_2=0., w_1D=w, print_array=[], precision_cost_interval=(int0,None), control_matrix=control_mat, precision_matrix=prec_mat)\n",
    "\n",
    "    if type(results_dict[\"control\"][i]) != type(None):\n",
    "        wc_controlled.control = results_dict[\"control\"][i].copy()\n",
    "        wc_controlled.update_input()\n",
    "    wc_controlled.model.run()    \n",
    "\n",
    "    return wc_controlled\n"
   ]
  },
  {
   "cell_type": "code",
   "execution_count": 6,
   "metadata": {},
   "outputs": [],
   "source": [
    "n_points = len(points_bi)\n",
    "w_array = [1.]\n",
    "file_array = []\n",
    "for i in range(len(points_bi)):\n",
    "    file_array.append('w1_' + str(i+1) + '.png')\n",
    "\n",
    "results_w1_ud = dict([\n",
    "    ('cost_type', 'w1'),\n",
    "    ('point', [None] * n_points),\n",
    "    ('d', [None] * n_points),\n",
    "    ('u', [None] * n_points),\n",
    "    (\"cost\", [None] * n_points),\n",
    "    (\"initial_cost\", [None] * n_points),\n",
    "    (\"precision_cost\", [None] * n_points),\n",
    "    (\"L_cost\", [np.zeros((2))] * n_points),\n",
    "    (\"control\", [None] * n_points),\n",
    "    (\"state\", [None] * n_points),\n",
    "    (\"filename\", file_array)\n",
    "    ])\n",
    "\n",
    "def save(results_dict):\n",
    "    filehandler = open(\"w1_ud.pickle\",\"wb\")\n",
    "    pickle.dump(results_dict,filehandler)\n",
    "    filehandler.close()"
   ]
  },
  {
   "cell_type": "code",
   "execution_count": 9,
   "metadata": {},
   "outputs": [],
   "source": [
    "wc = WCModel()\n",
    "wc.params.sigma_ou = 0.\n",
    "dt = 0.1\n",
    "wc.params.dt = dt\n",
    "duration = 500.\n",
    "wc.params[\"duration\"] = duration\n",
    "\n",
    "wc.params.c_excinh = 2.\n",
    "wc.params.c_inhexc = 16.\n",
    "wc.params.c_inhinh = 1.\n",
    "\n",
    "zero_input = ZeroInput().generate_input(duration=duration+dt, dt=dt)\n",
    "bi_control = zero_input.copy()\n",
    "bi_control[0,:500] = -5.\n",
    "bi_control[0,2500:3000] = +5.\n",
    "\n",
    "for i in range(len(points_bi)):\n",
    "\n",
    "    p = points_bi[i]\n",
    "    results_w1_ud['point'][i] = p\n",
    "\n",
    "    wc.params[\"exc_ext\"] = bi_control + p[0]\n",
    "    wc.params[\"inh_ext\"] = zero_input + p[1]\n",
    "    wc.run()\n",
    "\n",
    "    results_w1_ud['d'][i] = [wc.exc[0,2000], wc.inh[0,2000]]\n",
    "    results_w1_ud['u'][i] = [wc.exc[0,-1], wc.inh[0,-1]]\n",
    "\n",
    "    #plt.plot(wc.exc[0,:])\n",
    "    #plt.show()"
   ]
  },
  {
   "cell_type": "code",
   "execution_count": 16,
   "metadata": {},
   "outputs": [],
   "source": [
    "results_w1_ud[\"control\"][1] = None"
   ]
  },
  {
   "cell_type": "code",
   "execution_count": 44,
   "metadata": {},
   "outputs": [
    {
     "name": "stdout",
     "output_type": "stream",
     "text": [
      "POINT  2\n",
      "Compute control for a deterministic system\n",
      "Cost in iteration 0: 3.3887142302454003\n",
      "Final cost : 3.3887142302454003\n"
     ]
    }
   ],
   "source": [
    "int0 = 1800\n",
    "w1 = 1.\n",
    "\n",
    "control_mat = np.zeros( (wc.params.N, len(wc.state_vars)) )\n",
    "control_mat[0,0] = 1.\n",
    "control_mat[0,1] = 1.\n",
    "\n",
    "prec_mat = np.zeros( (wc.params.N, len(wc.output_vars)) )\n",
    "prec_mat[0,0] = 1.\n",
    "prec_mat[0,1] = 1.\n",
    "\n",
    "duration = 300.\n",
    "wc.params[\"duration\"] = duration\n",
    "zero_input = ZeroInput().generate_input(duration=duration+dt, dt=dt)\n",
    "\n",
    "for i in range(len(points_bi)):\n",
    "\n",
    "    if i != 1:\n",
    "        continue\n",
    "\n",
    "    print(\"POINT \", i+1)\n",
    "\n",
    "    #if results_w1_ud[\"cost\"][i] < 2.:\n",
    "    #    continue\n",
    "\n",
    "    p = points_bi[i]\n",
    "\n",
    "    wc.params[\"exc_ext\"] = zero_input + p[0]\n",
    "    wc.params[\"inh_ext\"] = zero_input + p[1]\n",
    "\n",
    "    target = gettarget( results_w1_ud['d'][i] )\n",
    "    setinit( results_w1_ud['u'][i] )\n",
    "\n",
    "    #if type(results_w1_ud[\"control\"][i]) != type(None):\n",
    "    #    continue\n",
    "\n",
    "    #results_w1_ud[\"control\"][i] = None\n",
    "        \n",
    "    wc_controlled = getmodel(target, w1, results_w1_ud, i)\n",
    "\n",
    "    if False:\n",
    "\n",
    "        wc_controlled.step = 1e-3\n",
    "        wc_controlled.optimize(1)\n",
    "\n",
    "        results_w1_ud[\"initial_cost\"][i] = wc_controlled.cost_history[0]\n",
    "\n",
    "        wc_controlled.control[0,0,-300:-200] = -5.\n",
    "        wc_controlled.update_input()\n",
    "\n",
    "        wc_controlled.step = 1e-2\n",
    "        wc_controlled.optimize(100)\n",
    "\n",
    "        increase_step_compute()\n",
    "\n",
    "        ce = wc_controlled.cost_history[-1]\n",
    "        control_e = wc_controlled.control.copy()\n",
    "\n",
    "        wc_controlled.control[0,0,:] = 0.\n",
    "        wc_controlled.control[0,1,-300:-200] = 5.\n",
    "        wc_controlled.update_input()\n",
    "\n",
    "        wc_controlled.step = 1e-2\n",
    "        wc_controlled.optimize(100)\n",
    "\n",
    "        increase_step_compute()\n",
    "\n",
    "        ci = wc_controlled.cost_history[-1]\n",
    "\n",
    "        if ce <= ci:\n",
    "            wc_controlled.control = control_e.copy()\n",
    "            wc_controlled.update_input()\n",
    "\n",
    "        wc_controlled.optimize(0)    \n",
    "        get_values(results_w1_ud, i, w1)  \n",
    "\n",
    "    wc_controlled.step_factor = 0.5\n",
    "\n",
    "    for k in range(18, 19):\n",
    "        c0 = np.zeros((wc_controlled.control.shape))\n",
    "        c0[0,:,:] = wc_controlled.control[0,:,:]\n",
    "        wc_controlled.control = c0.copy()\n",
    "        wc_controlled.update_input()\n",
    "\n",
    "        wc_controlled.step = 10**(-(k))\n",
    "        wc_controlled.step_factor *= 0.8\n",
    "        wc_controlled.optimize(400)\n",
    "\n",
    "        #decrease_step_compute()\n",
    "\n",
    "        if results_w1_ud[\"cost\"][i] > wc_controlled.cost_history[-1]:\n",
    "            print(\"better\")\n",
    "            get_values(results_w1_ud, i, w1)\n",
    "\n",
    "    save(results_w1_ud)"
   ]
  },
  {
   "cell_type": "code",
   "execution_count": 42,
   "metadata": {},
   "outputs": [
    {
     "name": "stdout",
     "output_type": "stream",
     "text": [
      "POINT  1\n",
      "0.9793408825036668 2.3998648494961143\n"
     ]
    },
    {
     "data": {
      "image/png": "[encoded data removed]",
      "text/plain": [
       "<Figure size 640x480 with 1 Axes>"
      ]
     },
     "metadata": {},
     "output_type": "display_data"
    },
    {
     "name": "stdout",
     "output_type": "stream",
     "text": [
      "POINT  2\n",
      "3.3887142302454003 14.93201621915232\n"
     ]
    },
    {
     "data": {
      "image/png": "[encoded data removed]",
      "text/plain": [
       "<Figure size 640x480 with 1 Axes>"
      ]
     },
     "metadata": {},
     "output_type": "display_data"
    }
   ],
   "source": [
    "for i in range(len(points_bi)):\n",
    "    print(\"POINT \", i+1)\n",
    "    print(results_w1_ud[\"cost\"][i], results_w1_ud[\"initial_cost\"][i])\n",
    "    plt.plot(results_w1_ud[\"state\"][i][0,0,:], color=\"red\", linestyle='-')\n",
    "    plt.plot(results_w1_ud[\"state\"][i][0,1,:], color=\"blue\", linestyle='-')\n",
    "    plt.plot(results_w1_ud[\"control\"][i][0,0,:], color=\"red\")\n",
    "    plt.plot(results_w1_ud[\"control\"][i][0,1,:], color=\"blue\")\n",
    "    plt.show()"
   ]
  },
  {
   "cell_type": "code",
   "execution_count": null,
   "metadata": {},
   "outputs": [],
   "source": []
  }
 ],
 "metadata": {
  "kernelspec": {
   "display_name": "Python 3 (ipykernel)",
   "language": "python",
   "name": "python3"
  },
  "language_info": {
   "codemirror_mode": {
    "name": "ipython",
    "version": 3
   },
   "file_extension": ".py",
   "mimetype": "text/x-python",
   "name": "python",
   "nbconvert_exporter": "python",
   "pygments_lexer": "ipython3",
   "version": "3.9.7"
  },
  "vscode": {
   "interpreter": {
    "hash": "31f2aee4e71d21fbe5cf8b01ff0e069b9275f58929596ceb00d14d90e3e16cd6"
   }
  }
 },
 "nbformat": 4,
 "nbformat_minor": 2
}
