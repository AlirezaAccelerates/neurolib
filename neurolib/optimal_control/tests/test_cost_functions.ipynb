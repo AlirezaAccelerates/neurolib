{
 "cells": [
  {
   "cell_type": "code",
   "execution_count": 1,
   "metadata": {},
   "outputs": [],
   "source": [
    "import unittest\n",
    "from neurolib.optimal_control import cost_functions\n",
    "import numpy as np"
   ]
  },
  {
   "cell_type": "code",
   "execution_count": 4,
   "metadata": {},
   "outputs": [],
   "source": [
    "def get_arbitrary_array():\n",
    "    return np.array([[1, -10, 5.555], [-1, 3.3333, 9]])  # an arbitrary vector with positive and negative entries"
   ]
  },
  {
   "cell_type": "code",
   "execution_count": 18,
   "metadata": {},
   "outputs": [
    {
     "name": "stdout",
     "output_type": "stream",
     "text": [
      "0.0\n",
      "0.0\n",
      "0.0\n",
      "0.0\n",
      "0.0\n"
     ]
    }
   ],
   "source": [
    "w_p = 1\n",
    "N = 2\n",
    "x_target0 = get_arbitrary_array()[np.newaxis, :, :]\n",
    "x_target1 = 2. * get_arbitrary_array()[np.newaxis, :, :]\n",
    "target = np.concatenate( (x_target0, x_target1), axis=0)\n",
    "precision_cost_matrix = np.zeros((N,2))\n",
    "zerostate = np.zeros((target.shape))\n",
    "\n",
    "print(cost_functions.precision_cost(target, zerostate, w_p, N, precision_cost_matrix))  # target and simulation coincide\n",
    "\n",
    "for i in range(N):\n",
    "    for j in range(N):\n",
    "        precision_cost_matrix[i,j] = 1\n",
    "        result = w_p * 0.5 * sum((target[i,j,:]**2))\n",
    "        print(cost_functions.precision_cost(target, zerostate, w_p, N, precision_cost_matrix) - result)\n",
    "        precision_cost_matrix[i,j] = 0"
   ]
  },
  {
   "cell_type": "code",
   "execution_count": null,
   "metadata": {},
   "outputs": [],
   "source": []
  }
 ],
 "metadata": {
  "kernelspec": {
   "display_name": "Python 3 (ipykernel)",
   "language": "python",
   "name": "python3"
  },
  "language_info": {
   "codemirror_mode": {
    "name": "ipython",
    "version": 3
   },
   "file_extension": ".py",
   "mimetype": "text/x-python",
   "name": "python",
   "nbconvert_exporter": "python",
   "pygments_lexer": "ipython3",
   "version": "3.9.7"
  },
  "vscode": {
   "interpreter": {
    "hash": "31f2aee4e71d21fbe5cf8b01ff0e069b9275f58929596ceb00d14d90e3e16cd6"
   }
  }
 },
 "nbformat": 4,
 "nbformat_minor": 2
}
