{
 "cells": [
  {
   "cell_type": "code",
   "execution_count": 22,
   "metadata": {
    "collapsed": false,
    "pycharm": {
     "name": "#%%\n"
    }
   },
   "outputs": [
    {
     "name": "stdout",
     "output_type": "stream",
     "text": [
      "The autoreload extension is already loaded. To reload it, use:\n",
      "  %reload_ext autoreload\n"
     ]
    }
   ],
   "source": [
    "import os\n",
    "import numpy as np\n",
    "\n",
    "if os.getcwd().split(os.sep)[-1] == \"examples\":\n",
    "    os.chdir('..')\n",
    "\n",
    "# This will reload all imports as soon as the code changes\n",
    "%load_ext autoreload\n",
    "%autoreload 2\n",
    "\n",
    "color_x = 'red'\n",
    "color_y = 'blue'\n",
    "\n",
    "zero_control = np.vstack( [np.zeros((1,201)), np.zeros((1,201))] )[np.newaxis,:,:]"
   ]
  },
  {
   "cell_type": "code",
   "execution_count": 28,
   "metadata": {
    "collapsed": false,
    "pycharm": {
     "name": "#%%\n"
    }
   },
   "outputs": [
    {
     "ename": "AssertionError",
     "evalue": "",
     "output_type": "error",
     "traceback": [
      "\u001b[0;31m---------------------------------------------------------------------------\u001b[0m",
      "\u001b[0;31mAssertionError\u001b[0m                            Traceback (most recent call last)",
      "\u001b[0;32m/tmp/ipykernel_7140/4036701880.py\u001b[0m in \u001b[0;36m<module>\u001b[0;34m\u001b[0m\n\u001b[1;32m     18\u001b[0m \u001b[0mw2\u001b[0m \u001b[0;34m=\u001b[0m \u001b[0;36m1e-2\u001b[0m\u001b[0;34m\u001b[0m\u001b[0;34m\u001b[0m\u001b[0m\n\u001b[1;32m     19\u001b[0m \u001b[0mwp\u001b[0m \u001b[0;34m=\u001b[0m \u001b[0;36m1.\u001b[0m\u001b[0;34m\u001b[0m\u001b[0;34m\u001b[0m\u001b[0m\n\u001b[0;32m---> 20\u001b[0;31m \u001b[0mmodel_controlled\u001b[0m \u001b[0;34m=\u001b[0m \u001b[0moc_fhn\u001b[0m\u001b[0;34m.\u001b[0m\u001b[0mOcFhn\u001b[0m\u001b[0;34m(\u001b[0m\u001b[0mmodel\u001b[0m\u001b[0;34m,\u001b[0m \u001b[0mtarget\u001b[0m\u001b[0;34m,\u001b[0m \u001b[0mw_p\u001b[0m\u001b[0;34m=\u001b[0m\u001b[0mwp\u001b[0m\u001b[0;34m,\u001b[0m \u001b[0mw_2\u001b[0m\u001b[0;34m=\u001b[0m\u001b[0mw2\u001b[0m\u001b[0;34m,\u001b[0m \u001b[0mprint_array\u001b[0m\u001b[0;34m=\u001b[0m\u001b[0mnp\u001b[0m\u001b[0;34m.\u001b[0m\u001b[0marange\u001b[0m\u001b[0;34m(\u001b[0m\u001b[0;36m0\u001b[0m\u001b[0;34m,\u001b[0m\u001b[0;36m1001\u001b[0m\u001b[0;34m,\u001b[0m\u001b[0;36m100\u001b[0m\u001b[0;34m)\u001b[0m\u001b[0;34m,\u001b[0m \u001b[0mprecision_cost_interval\u001b[0m\u001b[0;34m=\u001b[0m\u001b[0;34m[\u001b[0m\u001b[0;36m1000\u001b[0m\u001b[0;34m,\u001b[0m\u001b[0;32mNone\u001b[0m\u001b[0;34m]\u001b[0m\u001b[0;34m)\u001b[0m\u001b[0;34m\u001b[0m\u001b[0;34m\u001b[0m\u001b[0m\n\u001b[0m\u001b[1;32m     21\u001b[0m \u001b[0;34m\u001b[0m\u001b[0m\n\u001b[1;32m     22\u001b[0m \u001b[0;31m# We run 100 iterations of the optimal control gradient descent algorithm\u001b[0m\u001b[0;34m\u001b[0m\u001b[0;34m\u001b[0m\u001b[0m\n",
      "\u001b[0;32m~/Promotion/neurolib/neurolib/optimal_control/oc_fhn/oc_fhn.py\u001b[0m in \u001b[0;36m__init__\u001b[0;34m(self, model, target, w_p, w_2, print_array, precision_cost_interval, precision_matrix, control_matrix, M, M_validation, validate_per_step)\u001b[0m\n\u001b[1;32m    144\u001b[0m         \u001b[0;32massert\u001b[0m \u001b[0mself\u001b[0m\u001b[0;34m.\u001b[0m\u001b[0mmodel\u001b[0m\u001b[0;34m.\u001b[0m\u001b[0mname\u001b[0m \u001b[0;34m==\u001b[0m \u001b[0;34m\"fhn\"\u001b[0m\u001b[0;34m\u001b[0m\u001b[0;34m\u001b[0m\u001b[0m\n\u001b[1;32m    145\u001b[0m \u001b[0;34m\u001b[0m\u001b[0m\n\u001b[0;32m--> 146\u001b[0;31m         \u001b[0;32massert\u001b[0m \u001b[0mself\u001b[0m\u001b[0;34m.\u001b[0m\u001b[0mT\u001b[0m \u001b[0;34m==\u001b[0m \u001b[0mself\u001b[0m\u001b[0;34m.\u001b[0m\u001b[0mmodel\u001b[0m\u001b[0;34m.\u001b[0m\u001b[0mparams\u001b[0m\u001b[0;34m[\u001b[0m\u001b[0;34m\"x_ext\"\u001b[0m\u001b[0;34m]\u001b[0m\u001b[0;34m.\u001b[0m\u001b[0mshape\u001b[0m\u001b[0;34m[\u001b[0m\u001b[0;36m1\u001b[0m\u001b[0;34m]\u001b[0m\u001b[0;34m\u001b[0m\u001b[0;34m\u001b[0m\u001b[0m\n\u001b[0m\u001b[1;32m    147\u001b[0m         \u001b[0;32massert\u001b[0m \u001b[0mself\u001b[0m\u001b[0;34m.\u001b[0m\u001b[0mT\u001b[0m \u001b[0;34m==\u001b[0m \u001b[0mself\u001b[0m\u001b[0;34m.\u001b[0m\u001b[0mmodel\u001b[0m\u001b[0;34m.\u001b[0m\u001b[0mparams\u001b[0m\u001b[0;34m[\u001b[0m\u001b[0;34m\"y_ext\"\u001b[0m\u001b[0;34m]\u001b[0m\u001b[0;34m.\u001b[0m\u001b[0mshape\u001b[0m\u001b[0;34m[\u001b[0m\u001b[0;36m1\u001b[0m\u001b[0;34m]\u001b[0m\u001b[0;34m\u001b[0m\u001b[0;34m\u001b[0m\u001b[0m\n\u001b[1;32m    148\u001b[0m \u001b[0;34m\u001b[0m\u001b[0m\n",
      "\u001b[0;31mAssertionError\u001b[0m: "
     ]
    }
   ],
   "source": [
    "import numpy as np\n",
    "import matplotlib.pyplot as plt\n",
    "from neurolib.models.fhn import FHNModel\n",
    "from neurolib.optimal_control import oc_fhn\n",
    "\n",
    "\n",
    "target = np.zeros(( 1,2,2001 ))\n",
    "zero_input = np.zeros((1,200))\n",
    "zero_control = np.vstack( [zero_input, zero_input] )[np.newaxis,:,:]\n",
    "\n",
    "model = FHNModel()\n",
    "model.params[\"duration\"] = 200.\n",
    "model.run()\n",
    "\n",
    "model.params[\"x_ext\"] = zero_input\n",
    "model.params[\"y_ext\"] = zero_input\n",
    "\n",
    "w2 = 1e-2\n",
    "wp = 1.\n",
    "model_controlled = oc_fhn.OcFhn(model, target, w_p=wp, w_2=w2, print_array=np.arange(0,1001,100), precision_cost_interval=[1000,None])\n",
    "\n",
    "# We run 100 iterations of the optimal control gradient descent algorithm\n",
    "model_controlled.optimize(1000)\n",
    "\n",
    "state = model_controlled.get_xs()\n",
    "control = model_controlled.control\n",
    "\n",
    "plot_singlenode(state, target, control, zero_control, model_controlled.cost_history)\n",
    "\n"
   ]
  },
  {
   "cell_type": "code",
   "execution_count": 20,
   "metadata": {},
   "outputs": [],
   "source": [
    "# define plot function for later convenience\n",
    "def plot_singlenode(model, duration, dt, state, target, control, input, weight_array=[], M=1):\n",
    "    duration = model.params.duration\n",
    "    dt = model.params.dt\n",
    "    fig, ax = plt.subplots( 3,1, figsize=(8,6), constrained_layout=True)\n",
    "\n",
    "    # Plot the target (dashed line) and unperturbed activity\n",
    "    t_array = np.arange(0, duration+dt, dt)\n",
    "\n",
    "    ax[0].plot(t_array, state[0,0,:], label=\"x\", color=color_x, linewidth=1)\n",
    "    ax[0].plot(t_array, state[0,1,:], label=\"y\", color=color_y, linewidth=1)\n",
    "    ax[0].plot(t_array, target[0,0,:], linestyle='dashed', label=\"Target x\", color=color_x)\n",
    "    ax[0].plot(t_array, target[0,1,:], linestyle='dashed', label=\"Target y\", color=color_y)\n",
    "    ax[0].legend()\n",
    "    ax[0].set_title(\"Activity without stimulation and target activity\")\n",
    "\n",
    "    for m in range(M-1):\n",
    "        model.run()\n",
    "        state = np.concatenate((np.concatenate( (model.params[\"xs_init\"], model.params[\"ys_init\"]), axis=1)[:,:, np.newaxis], np.stack( (model.x, model.y), axis=1)), axis=2)\n",
    "        ax[0].plot(t_array, state[0,0,:], label=\"x\", color=color_x, linewidth=1)\n",
    "        ax[0].plot(t_array, state[0,1,:], label=\"y\", color=color_y, linewidth=1)\n",
    "\n",
    "    # Plot the target control signal (dashed line) and \"initial\" zero control signal\n",
    "    ax[1].plot(t_array, control[0,0,:], label=\"stimulation x\", color=color_x)\n",
    "    ax[1].plot(t_array, control[0,1,:], label=\"stimulation y\", color=color_y)\n",
    "    ax[1].plot(t_array, input[0,0,:], linestyle='dashed', label=\"input x\", color=color_x)\n",
    "    ax[1].plot(t_array, input[0,1,:], linestyle='dashed', label=\"input y\", color=color_y)\n",
    "    ax[1].legend()\n",
    "    ax[1].set_title(\"Active stimulation and input stimulation\")\n",
    "\n",
    "    ax[2].plot(weight_array)\n",
    "    ax[2].set_title(\"Cost throughout optimization.\")\n",
    "\n",
    "    plt.show()"
   ]
  },
  {
   "cell_type": "markdown",
   "metadata": {
    "pycharm": {
     "name": "#%% md\n"
    }
   },
   "source": []
  }
 ],
 "metadata": {
  "kernelspec": {
   "display_name": "Python 3 (ipykernel)",
   "language": "python",
   "name": "python3"
  },
  "language_info": {
   "codemirror_mode": {
    "name": "ipython",
    "version": 3
   },
   "file_extension": ".py",
   "mimetype": "text/x-python",
   "name": "python",
   "nbconvert_exporter": "python",
   "pygments_lexer": "ipython3",
   "version": "3.9.7"
  },
  "vscode": {
   "interpreter": {
    "hash": "31f2aee4e71d21fbe5cf8b01ff0e069b9275f58929596ceb00d14d90e3e16cd6"
   }
  }
 },
 "nbformat": 4,
 "nbformat_minor": 2
}
