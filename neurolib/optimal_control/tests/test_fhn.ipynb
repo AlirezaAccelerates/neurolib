{
 "cells": [
  {
   "cell_type": "code",
   "execution_count": 2,
   "metadata": {},
   "outputs": [],
   "source": [
    "import unittest\n",
    "import numpy as np\n",
    "\n",
    "from neurolib.models.fhn import FHNModel\n",
    "from neurolib.utils.stimulus import ZeroInput\n",
    "from neurolib.optimal_control import oc_fhn\n",
    "from numpy.random import MT19937\n",
    "from numpy.random import RandomState, SeedSequence\n",
    "\n",
    "global limit_diff\n",
    "limit_diff = 1e-4"
   ]
  },
  {
   "cell_type": "code",
   "execution_count": 5,
   "metadata": {},
   "outputs": [
    {
     "name": "stdout",
     "output_type": "stream",
     "text": [
      "Compute control for a deterministic system\n",
      "1.4508870033552288\n",
      "Compute control for a deterministic system\n",
      "0.22337887117241984\n",
      "Compute control for a deterministic system\n",
      "0.0374378718253654\n",
      "Compute control for a deterministic system\n",
      "0.006651954557219675\n",
      "Compute control for a deterministic system\n",
      "0.0012208232094188531\n",
      "Compute control for a deterministic system\n",
      "0.0002281172941280829\n",
      "Compute control for a deterministic system\n",
      "4.306466186143609e-05\n",
      "True\n"
     ]
    }
   ],
   "source": [
    "fhn = FHNModel()\n",
    "\n",
    "duration = 3.0\n",
    "a = 10.0\n",
    "\n",
    "zero_input = ZeroInput().generate_input(duration=duration + fhn.params.dt, dt=fhn.params.dt)\n",
    "input_x = np.copy(zero_input)\n",
    "input_y = np.copy(input_x)\n",
    "\n",
    "rs = RandomState(MT19937(SeedSequence(0)))  # work with fixed seed for reproducibility\n",
    "\n",
    "for t in range(1, input_x.shape[1] - 2):\n",
    "    input_x[0, t] = rs.uniform(-a, a)\n",
    "fhn.params[\"x_ext\"] = input_x\n",
    "for t in range(1, input_y.shape[1] - 2):\n",
    "    input_y[0, t] = rs.uniform(-a, a)\n",
    "fhn.params[\"y_ext\"] = input_y\n",
    "\n",
    "fhn.params[\"duration\"] = duration\n",
    "fhn.params[\"xs_init\"] = np.array([[0.0]])\n",
    "fhn.params[\"ys_init\"] = np.array([[0.0]])\n",
    "\n",
    "fhn.run()\n",
    "x_target = np.vstack([0.0, fhn.x.T])\n",
    "y_target = np.vstack([0.0, fhn.y.T])\n",
    "\n",
    "fhn.params[\"y_ext\"] = zero_input\n",
    "fhn.params[\"x_ext\"] = zero_input\n",
    "\n",
    "target = np.column_stack(([x_target, y_target])).T\n",
    "fhn_controlled = oc_fhn.OcFhn(fhn, target, w_p=1, w_2=0)\n",
    "\n",
    "control_coincide = False\n",
    "\n",
    "for i in range(100):\n",
    "    fhn_controlled.optimize(1000)\n",
    "    control = fhn_controlled.control\n",
    "\n",
    "    c_diff = np.vstack([np.abs(control[0, :] - input_x), np.abs(control[1, :] - input_y)])\n",
    "    print(np.amax(c_diff))\n",
    "    if np.amax(c_diff) < limit_diff:\n",
    "        control_coincide = True\n",
    "        break\n",
    "\n",
    "print(control_coincide)"
   ]
  },
  {
   "cell_type": "code",
   "execution_count": null,
   "metadata": {},
   "outputs": [],
   "source": []
  }
 ],
 "metadata": {
  "kernelspec": {
   "display_name": "Python 3 (ipykernel)",
   "language": "python",
   "name": "python3"
  },
  "language_info": {
   "codemirror_mode": {
    "name": "ipython",
    "version": 3
   },
   "file_extension": ".py",
   "mimetype": "text/x-python",
   "name": "python",
   "nbconvert_exporter": "python",
   "pygments_lexer": "ipython3",
   "version": "3.9.7"
  },
  "vscode": {
   "interpreter": {
    "hash": "31f2aee4e71d21fbe5cf8b01ff0e069b9275f58929596ceb00d14d90e3e16cd6"
   }
  }
 },
 "nbformat": 4,
 "nbformat_minor": 2
}
